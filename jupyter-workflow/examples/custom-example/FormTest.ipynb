{
 "cells": [
  {
   "cell_type": "code",
   "execution_count": null,
   "id": "985bb9d0-6bac-4f96-beeb-158d9f2443af",
   "metadata": {
    "envData": {
     "editable": true,
     "tags": [],
     "trusted": true,
     "version": "v1.0",
     "workflow": {
      "deployments": {
       "frotemp": {
        "config": {
         "files": [
          "gfgfgffffg"
         ]
        },
        "type": "kubernetes"
       }
      },
      "interpreter": "python3",
      "target": {
       "deployment": "frotemp"
      },
      "version": "v1.0"
     }
    }
   },
   "outputs": [],
   "source": []
  }
 ],
 "metadata": {
  "kernelspec": {
   "display_name": "Jupyter Workflow",
   "language": "python",
   "name": "jupyter-workflow"
  },
  "language_info": {
   "codemirror_mode": {
    "name": "ipython",
    "version": 3
   },
   "file_extension": ".py",
   "mimetype": "text/x-python",
   "name": "python",
   "nbconvert_exporter": "python",
   "pygments_lexer": "ipython3",
   "version": "3.8.20"
  }
 },
 "nbformat": 4,
 "nbformat_minor": 5
}
