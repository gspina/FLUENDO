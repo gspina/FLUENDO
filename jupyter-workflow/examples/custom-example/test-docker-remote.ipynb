{
 "cells": [
  {
   "cell_type": "code",
   "execution_count": 1,
   "id": "c155c6f8-2a12-442e-8e34-165d8f5f1371",
   "metadata": {
    "editable": true,
    "slideshow": {
     "slide_type": ""
    },
    "tags": []
   },
   "outputs": [
    {
     "name": "stdout",
     "output_type": "stream",
     "text": [
      "PARENT + METADATA {'header': {'date': datetime.datetime(2024, 12, 12, 8, 56, 59, 639000, tzinfo=tzutc()), 'msg_id': '4cbe0ce4-b474-4c66-b254-a11714828fbc', 'msg_type': 'execute_request', 'session': 'eacafe28-39af-4ad0-a90c-e7950be76a25', 'username': '', 'version': '5.2'}, 'msg_id': '4cbe0ce4-b474-4c66-b254-a11714828fbc', 'msg_type': 'execute_request', 'parent_header': {}, 'metadata': {'editable': True, 'slideshow': {'slide_type': ''}, 'tags': [], 'trusted': True, 'deletedCells': [], 'recordTiming': False, 'cellId': 'c155c6f8-2a12-442e-8e34-165d8f5f1371'}, 'content': {'silent': False, 'store_history': True, 'user_expressions': {}, 'allow_stdin': True, 'stop_on_error': True, 'code': 'number = 10'}, 'buffers': []} {'started': datetime.datetime(2024, 12, 12, 8, 56, 59, 637490, tzinfo=datetime.timezone.utc), 'dependencies_met': True, 'engine': '3c1f36bf-9775-47bd-8d5e-206665697d40'} \n",
      " =*=*=*=*=*=*=*=*=*=*\n"
     ]
    }
   ],
   "source": [
    "number = 10"
   ]
  },
  {
   "cell_type": "code",
   "execution_count": null,
   "id": "79bf85f2-9a55-4cdb-a18b-e963bd689df8",
   "metadata": {
    "cell_id": 1,
    "editable": true,
    "slideshow": {
     "slide_type": ""
    },
    "tags": [],
    "version": "v1.0",
    "workflow": {
     "cell_id": "cella_1",
     "deployments": {
      "docker-depl": {
       "config": {
        "image": "python:custom",
        "rm": true,
        "stopSignal": "SIGKILL",
        "stopTimeout": 12
       },
       "type": "docker"
      }
     },
     "interpreter": "python3",
     "step": {
      "in": [
       "test",
       "number",
       "lista",
       "dizionario"
      ],
      "out": [
       "test",
       "number",
       "lista",
       "dizionario"
      ]
     },
     "target": {
      "deployment": "docker-depl"
     },
     "version": "v1.0"
    }
   },
   "outputs": [
    {
     "name": "stdout",
     "output_type": "stream",
     "text": [
      "PARENT + METADATA {'header': {'date': datetime.datetime(2024, 12, 12, 9, 18, 1, 589000, tzinfo=tzutc()), 'msg_id': 'bda72e9e-42f4-4413-a3c0-71148240c067', 'msg_type': 'execute_request', 'session': '8f16828b-5e1a-41e2-927a-03a5dd80e2c8', 'username': '', 'version': '5.2'}, 'msg_id': 'bda72e9e-42f4-4413-a3c0-71148240c067', 'msg_type': 'execute_request', 'parent_header': {}, 'metadata': {'cell_id': 1, 'editable': True, 'slideshow': {'slide_type': ''}, 'tags': [], 'version': 'v1.0', 'workflow': {'cell_id': 'cella_1', 'deployments': {'docker-depl': {'config': {'image': 'python:custom', 'rm': True, 'stopSignal': 'SIGKILL', 'stopTimeout': 12}, 'type': 'docker'}}, 'interpreter': 'python3', 'step': {'in': ['test', 'number', 'lista', 'dizionario'], 'out': ['test', 'number', 'lista', 'dizionario']}, 'target': {'deployment': 'docker-depl'}, 'version': 'v1.0'}, 'trusted': True, 'deletedCells': [], 'recordTiming': False, 'cellId': '79bf85f2-9a55-4cdb-a18b-e963bd689df8'}, 'content': {'silent': False, 'store_history': True, 'user_expressions': {}, 'allow_stdin': True, 'stop_on_error': True, 'code': 'import time\\nimport matplotlib\\ntest = \"prova3\"\\nnumber = 5\\nlista = [test,number,\"42\",99]\\ndizionario = {\"key1\": lista, \"key2\": test, \"key3\":number}\\nprint(test)\\nfor i in range(1):\\n    prova = \"provatest\"\\n    time.sleep(1)'}, 'buffers': []} {'started': datetime.datetime(2024, 12, 12, 9, 18, 1, 592085, tzinfo=datetime.timezone.utc), 'dependencies_met': True, 'engine': 'bc45d97b-0f2f-4714-906b-ed15a63eb4a9'} \n",
      " =*=*=*=*=*=*=*=*=*=*\n",
      "\n",
      "Waiting for debugger attach\n",
      "break on this line\n",
      "metadata {'cell_id': 'cella_1', 'deployments': {'docker-depl': {'config': {'image': 'python:custom', 'rm': True, 'stopSignal': 'SIGKILL', 'stopTimeout': 12}, 'type': 'docker'}}, 'interpreter': 'python3', 'step': {'in': ['test', 'number', 'lista', 'dizionario'], 'out': ['test', 'number', 'lista', 'dizionario']}, 'target': {'deployment': 'docker-depl'}, 'version': 'v1.0'}\n",
      "terget {'deployment': 'docker-depl'}\n"
     ]
    }
   ],
   "source": [
    "import time\n",
    "import matplotlib\n",
    "test = \"prova3\"\n",
    "number = 5\n",
    "lista = [test,number,\"42\",99]\n",
    "dizionario = {\"key1\": lista, \"key2\": test, \"key3\":number}\n",
    "print(test)\n",
    "for i in range(1):\n",
    "    prova = \"provatest\"\n",
    "    time.sleep(1)"
   ]
  },
  {
   "cell_type": "code",
   "execution_count": 1,
   "id": "8b2f6356-dba5-4c9a-b609-961c9093b34c",
   "metadata": {
    "editable": true,
    "slideshow": {
     "slide_type": ""
    },
    "tags": []
   },
   "outputs": [
    {
     "ename": "NameError",
     "evalue": "name 'test' is not defined",
     "output_type": "error",
     "traceback": [
      "\u001b[0;31m---------------------------------------------------------------------------\u001b[0m",
      "\u001b[0;31mNameError\u001b[0m                                 Traceback (most recent call last)",
      "Cell \u001b[0;32mIn[1], line 1\u001b[0m\n\u001b[0;32m----> 1\u001b[0m \u001b[38;5;28mprint\u001b[39m(\u001b[43mtest\u001b[49m, number)\n\u001b[1;32m      3\u001b[0m \u001b[38;5;28mprint\u001b[39m(lista)\n\u001b[1;32m      4\u001b[0m \u001b[38;5;28mprint\u001b[39m(dizionario)\n",
      "\u001b[0;31mNameError\u001b[0m: name 'test' is not defined"
     ]
    }
   ],
   "source": [
    "print(test, number)\n",
    "\n",
    "print(lista)\n",
    "print(dizionario)"
   ]
  },
  {
   "cell_type": "code",
   "execution_count": 9,
   "id": "06d4d70b-8017-4ac2-b1f8-3fd6bb16bd1a",
   "metadata": {
    "editable": true,
    "slideshow": {
     "slide_type": ""
    },
    "tags": []
   },
   "outputs": [
    {
     "name": "stdout",
     "output_type": "stream",
     "text": [
      "0.2.0.dev7\n"
     ]
    }
   ],
   "source": [
    "import streamflow\n",
    "print(streamflow.__version__)"
   ]
  },
  {
   "cell_type": "code",
   "execution_count": 10,
   "id": "b203a6b1-0f6d-4cab-a3bc-2e862c6a5a59",
   "metadata": {},
   "outputs": [
    {
     "ename": "SyntaxError",
     "evalue": "invalid syntax (1167353395.py, line 1)",
     "output_type": "error",
     "traceback": [
      "\u001b[0;36m  Cell \u001b[0;32mIn[10], line 1\u001b[0;36m\u001b[0m\n\u001b[0;31m    ubuntu2 arbitrario\u001b[0m\n\u001b[0m            ^\u001b[0m\n\u001b[0;31mSyntaxError\u001b[0m\u001b[0;31m:\u001b[0m invalid syntax\n"
     ]
    }
   ],
   "source": []
  },
  {
   "cell_type": "code",
   "execution_count": 2,
   "id": "23cf68ba-67a2-4de2-b89a-996bb56c3c21",
   "metadata": {
    "cell_id": 1,
    "editable": true,
    "slideshow": {
     "slide_type": ""
    },
    "tags": [],
    "version": "v1.0",
    "workflow": {
     "cell_id": "cella_1",
     "deployments": {
      "docker-depl": {
       "config": {
        "image": "python:custom",
        "rm": true,
        "stopSignal": "SIGKILL",
        "stopTimeout": 12
       },
       "type": "docker"
      }
     },
     "interpreter": "python3",
     "step": {
      "in": [
       "test",
       "number",
       "lista",
       "dizionario"
      ],
      "out": [
       "test",
       "number",
       "lista",
       "dizionario"
      ]
     },
     "target": {
      "deployment": "docker-depl"
     },
     "version": "v1.0"
    }
   },
   "outputs": [
    {
     "name": "stdout",
     "output_type": "stream",
     "text": [
      "metadata {'cell_id': 'cella_1', 'deployments': {'docker-depl': {'config': {'image': 'python:custom', 'rm': True, 'stopSignal': 'SIGKILL', 'stopTimeout': 12}, 'type': 'docker'}}, 'interpreter': 'python3', 'step': {'in': ['test', 'number', 'lista', 'dizionario'], 'out': ['test', 'number', 'lista', 'dizionario']}, 'target': {'deployment': 'docker-depl'}, 'version': 'v1.0'}\n",
      "terget {'deployment': 'docker-depl'}\n",
      "METADATA {'cell_id': 'cella_1', 'deployments': {'docker-depl': {'config': {'image': 'python:custom', 'rm': True, 'stopSignal': 'SIGKILL', 'stopTimeout': 12}, 'type': 'docker'}}, 'interpreter': 'python3', 'step': {'in': ['test', 'number', 'lista', 'dizionario'], 'out': ['test', 'number', 'lista', 'dizionario']}, 'target': {'deployment': 'docker-depl'}, 'version': 'v1.0'}\n",
      "prova3\n"
     ]
    }
   ],
   "source": []
  },
  {
   "cell_type": "code",
   "execution_count": 1,
   "id": "5659183d-bf87-4e7f-bd94-fc3dfc1fc16a",
   "metadata": {},
   "outputs": [
    {
     "name": "stdout",
     "output_type": "stream",
     "text": [
      "PARENT + METADATA {'header': {'date': datetime.datetime(2024, 12, 11, 14, 15, 5, 152000, tzinfo=tzutc()), 'msg_id': 'efef4e16-0415-485b-8fbb-914db9392bd7', 'msg_type': 'execute_request', 'session': 'af963314-0a1a-4b75-9e16-fbef187f12db', 'username': '', 'version': '5.2'}, 'msg_id': 'efef4e16-0415-485b-8fbb-914db9392bd7', 'msg_type': 'execute_request', 'parent_header': {}, 'metadata': {'trusted': True, 'deletedCells': [], 'recordTiming': False, 'cellId': '5659183d-bf87-4e7f-bd94-fc3dfc1fc16a'}, 'content': {'silent': False, 'store_history': True, 'user_expressions': {}, 'allow_stdin': True, 'stop_on_error': True, 'code': '%%bash -s \"$test\" \\necho $test\\necho \"ciao\"'}, 'buffers': []} {'started': datetime.datetime(2024, 12, 11, 14, 15, 5, 475890, tzinfo=datetime.timezone.utc), 'dependencies_met': True, 'engine': '67bc1b8c-d7c3-4e4e-b177-8653767f00d3'} \n",
      " ==========\n",
      "\n",
      "ciao\n"
     ]
    }
   ],
   "source": [
    "%%bash -s \"$test\" \n",
    "echo $test\n",
    "echo \"ciao\""
   ]
  },
  {
   "cell_type": "code",
   "execution_count": 2,
   "id": "a7beb490-f1b7-4034-9bc4-8a5f0b10f158",
   "metadata": {
    "cell_id": 1,
    "editable": true,
    "slideshow": {
     "slide_type": ""
    },
    "tags": [],
    "version": "v1.0",
    "workflow": {
     "cell_id": "cella_1",
     "deployments": {
      "docker-depl": {
       "config": {
        "image": "python:custom",
        "rm": true,
        "stopSignal": "SIGKILL",
        "stopTimeout": 12
       },
       "type": "docker"
      }
     },
     "interpreter": "bash",
     "step": {
      "in": [],
      "out": []
     },
     "target": {
      "deployment": "docker-depl"
     },
     "version": "v1.0"
    }
   },
   "outputs": [
    {
     "name": "stdout",
     "output_type": "stream",
     "text": [
      "PARENT + METADATA {'header': {'date': datetime.datetime(2024, 12, 11, 14, 15, 23, 17000, tzinfo=tzutc()), 'msg_id': '87228fbb-54c1-438d-9512-5281005106ff', 'msg_type': 'execute_request', 'session': 'af963314-0a1a-4b75-9e16-fbef187f12db', 'username': '', 'version': '5.2'}, 'msg_id': '87228fbb-54c1-438d-9512-5281005106ff', 'msg_type': 'execute_request', 'parent_header': {}, 'metadata': {'trusted': True, 'cell_id': 1, 'editable': True, 'slideshow': {'slide_type': ''}, 'tags': [], 'version': 'v1.0', 'workflow': {'cell_id': 'cella_1', 'deployments': {'docker-depl': {'config': {'image': 'python:custom', 'rm': True, 'stopSignal': 'SIGKILL', 'stopTimeout': 12}, 'type': 'docker'}}, 'interpreter': 'bash', 'step': {'in': [], 'out': []}, 'target': {'deployment': 'docker-depl'}, 'version': 'v1.0'}, 'deletedCells': [], 'recordTiming': False, 'cellId': 'a7beb490-f1b7-4034-9bc4-8a5f0b10f158'}, 'content': {'silent': False, 'store_history': True, 'user_expressions': {}, 'allow_stdin': True, 'stop_on_error': True, 'code': '%%bash -s \"$test\" \\necho $test\\necho \"ciao\"'}, 'buffers': []} {'started': datetime.datetime(2024, 12, 11, 14, 15, 23, 226774, tzinfo=datetime.timezone.utc), 'dependencies_met': True, 'engine': '67bc1b8c-d7c3-4e4e-b177-8653767f00d3'} \n",
      " ==========\n",
      "metadata {'cell_id': 'cella_1', 'deployments': {'docker-depl': {'config': {'image': 'python:custom', 'rm': True, 'stopSignal': 'SIGKILL', 'stopTimeout': 12}, 'type': 'docker'}}, 'interpreter': 'bash', 'step': {'in': [], 'out': []}, 'target': {'deployment': 'docker-depl'}, 'version': 'v1.0'}\n",
      "terget {'deployment': 'docker-depl'}\n",
      "METADATA {'cell_id': 'cella_1', 'deployments': {'docker-depl': {'config': {'image': 'python:custom', 'rm': True, 'stopSignal': 'SIGKILL', 'stopTimeout': 12}, 'type': 'docker'}}, 'interpreter': 'bash', 'step': {'in': [], 'out': []}, 'target': {'deployment': 'docker-depl'}, 'version': 'v1.0'}\n"
     ]
    },
    {
     "ename": "WorkflowExecutionException",
     "evalue": "FAILED Workflow execution",
     "output_type": "error",
     "traceback": [
      "\u001b[0;31m---------------------------------------------------------------------------\u001b[0m",
      "\u001b[0;31mWorkflowExecutionException\u001b[0m                Traceback (most recent call last)",
      "File \u001b[0;32m~/lab/jupyter-workflow/jupyter_workflow/ipython/shell.py:160\u001b[0m, in \u001b[0;36mStreamFlowInteractiveShell._run_with_streamflow\u001b[0;34m(self, cell_name, compiler, ast_nodes, cell_config)\u001b[0m\n\u001b[1;32m    157\u001b[0m workflow \u001b[38;5;241m=\u001b[39m \u001b[38;5;28;01mawait\u001b[39;00m translator\u001b[38;5;241m.\u001b[39mtranslate(notebook\u001b[38;5;241m=\u001b[39mnotebook, user_ns\u001b[38;5;241m=\u001b[39m\u001b[38;5;28mself\u001b[39m\u001b[38;5;241m.\u001b[39muser_ns)\n\u001b[1;32m    158\u001b[0m \u001b[38;5;28;01mtry\u001b[39;00m:\n\u001b[1;32m    159\u001b[0m     \u001b[38;5;66;03m# Execute workflow\u001b[39;00m\n\u001b[0;32m--> 160\u001b[0m     \u001b[38;5;28;01mawait\u001b[39;00m StreamFlowExecutor(workflow)\u001b[38;5;241m.\u001b[39mrun()\n\u001b[1;32m    161\u001b[0m     \u001b[38;5;66;03m# Print output log\u001b[39;00m\n\u001b[1;32m    162\u001b[0m     output \u001b[38;5;241m=\u001b[39m \u001b[38;5;28mnext\u001b[39m(\n\u001b[1;32m    163\u001b[0m         \u001b[38;5;28miter\u001b[39m((\u001b[38;5;28;01mawait\u001b[39;00m _get_outputs(workflow, executor\u001b[38;5;241m.\u001b[39mCELL_OUTPUT))\u001b[38;5;241m.\u001b[39mvalues())\n\u001b[1;32m    164\u001b[0m     )\n",
      "File \u001b[0;32m~/lab/.env/lib/python3.8/site-packages/streamflow/workflow/executor.py:135\u001b[0m, in \u001b[0;36mStreamFlowExecutor.run\u001b[0;34m(self)\u001b[0m\n\u001b[1;32m    133\u001b[0m \u001b[38;5;28;01mfor\u001b[39;00m step \u001b[38;5;129;01min\u001b[39;00m \u001b[38;5;28mself\u001b[39m\u001b[38;5;241m.\u001b[39mworkflow\u001b[38;5;241m.\u001b[39msteps\u001b[38;5;241m.\u001b[39mvalues():\n\u001b[1;32m    134\u001b[0m     \u001b[38;5;28;01mif\u001b[39;00m step\u001b[38;5;241m.\u001b[39mstatus \u001b[38;5;129;01min\u001b[39;00m [Status\u001b[38;5;241m.\u001b[39mFAILED, Status\u001b[38;5;241m.\u001b[39mCANCELLED]:\n\u001b[0;32m--> 135\u001b[0m         \u001b[38;5;28;01mraise\u001b[39;00m WorkflowExecutionException(\u001b[38;5;124m\"\u001b[39m\u001b[38;5;124mFAILED Workflow execution\u001b[39m\u001b[38;5;124m\"\u001b[39m)\n\u001b[1;32m    136\u001b[0m \u001b[38;5;28;01mif\u001b[39;00m \u001b[38;5;28mself\u001b[39m\u001b[38;5;241m.\u001b[39mworkflow\u001b[38;5;241m.\u001b[39mpersistent_id:\n\u001b[1;32m    137\u001b[0m     \u001b[38;5;28;01mawait\u001b[39;00m \u001b[38;5;28mself\u001b[39m\u001b[38;5;241m.\u001b[39mworkflow\u001b[38;5;241m.\u001b[39mcontext\u001b[38;5;241m.\u001b[39mdatabase\u001b[38;5;241m.\u001b[39mupdate_workflow(\n\u001b[1;32m    138\u001b[0m         \u001b[38;5;28mself\u001b[39m\u001b[38;5;241m.\u001b[39mworkflow\u001b[38;5;241m.\u001b[39mpersistent_id,\n\u001b[1;32m    139\u001b[0m         {\u001b[38;5;124m\"\u001b[39m\u001b[38;5;124mstatus\u001b[39m\u001b[38;5;124m\"\u001b[39m: Status\u001b[38;5;241m.\u001b[39mCOMPLETED\u001b[38;5;241m.\u001b[39mvalue, \u001b[38;5;124m\"\u001b[39m\u001b[38;5;124mend_time\u001b[39m\u001b[38;5;124m\"\u001b[39m: time\u001b[38;5;241m.\u001b[39mtime_ns()},\n\u001b[1;32m    140\u001b[0m     )\n",
      "\u001b[0;31mWorkflowExecutionException\u001b[0m: FAILED Workflow execution"
     ]
    }
   ],
   "source": [
    "%%bash -s \"$test\" \n",
    "echo $test\n",
    "echo \"ciao\""
   ]
  },
  {
   "cell_type": "code",
   "execution_count": null,
   "id": "b7bbe7dd-88dd-46d8-9fe1-3995e95fc619",
   "metadata": {},
   "outputs": [],
   "source": []
  }
 ],
 "metadata": {
  "kernelspec": {
   "display_name": "Jupyter Workflow",
   "language": "python",
   "name": "jupyter-workflow"
  },
  "language_info": {
   "codemirror_mode": {
    "name": "ipython",
    "version": 3
   },
   "file_extension": ".py",
   "mimetype": "text/x-python",
   "name": "python",
   "nbconvert_exporter": "python",
   "pygments_lexer": "ipython3",
   "version": "3.8.20"
  },
  "version": "v1.0"
 },
 "nbformat": 4,
 "nbformat_minor": 5
}
