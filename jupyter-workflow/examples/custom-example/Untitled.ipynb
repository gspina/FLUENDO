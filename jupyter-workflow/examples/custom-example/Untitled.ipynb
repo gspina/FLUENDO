{
 "cells": [
  {
   "cell_type": "code",
   "execution_count": null,
   "id": "bdf63b39-7ad0-4307-a8f1-4e123b37eecd",
   "metadata": {
    "editable": true,
    "envData": {
     "editable": true,
     "tags": [],
     "trusted": true,
     "version": "v1.0",
     "workflow": {
      "deployments": {
       "env-name2": {
        "config": {
         "hostname": "bbbbn",
         "sshKey": "bbhgh"
        },
        "type": "ssh"
       }
      },
      "interpreter": "python3",
      "target": {
       "deployment": "env-name2"
      },
      "version": "v1.0"
     }
    },
    "tags": [],
    "version": "v1.0",
    "workflow": {
     "deployments": {
      "env-name": {
       "config": {},
       "type": "docker"
      }
     },
     "interpreter": "python3",
     "target": {
      "deployment": "env-name"
     },
     "version": "v1.0"
    }
   },
   "outputs": [],
   "source": []
  },
  {
   "cell_type": "code",
   "execution_count": null,
   "id": "2c996c7a-0cca-49cf-b532-8b8a329bff67",
   "metadata": {
    "envData": {
     "editable": true,
     "tags": [],
     "trusted": true,
     "version": "v1.0",
     "workflow": {
      "deployments": {
       "env-namehj": {
        "config": {
         "image": "jijj"
        },
        "type": "docker"
       }
      },
      "interpreter": "python3",
      "target": {
       "deployment": "env-namehj"
      },
      "version": "v1.0"
     }
    }
   },
   "outputs": [],
   "source": []
  },
  {
   "cell_type": "code",
   "execution_count": null,
   "id": "699a3464-8f84-4a15-9858-e0d6475558ff",
   "metadata": {
    "envData": {
     "editable": true,
     "tags": [],
     "trusted": true,
     "version": "v1.0",
     "workflow": {
      "deployments": {
       "env-name2": {
        "config": {
         "hostname": "bbbbn",
         "sshKey": "bbhgh"
        },
        "type": "ssh"
       }
      },
      "interpreter": "python3",
      "target": {
       "deployment": "env-name2"
      },
      "version": "v1.0"
     }
    }
   },
   "outputs": [],
   "source": []
  }
 ],
 "metadata": {
  "kernelspec": {
   "display_name": "Jupyter Workflow",
   "language": "python",
   "name": "jupyter-workflow"
  },
  "language_info": {
   "codemirror_mode": {
    "name": "ipython",
    "version": 3
   },
   "file_extension": ".py",
   "mimetype": "text/x-python",
   "name": "python",
   "nbconvert_exporter": "python",
   "pygments_lexer": "ipython3",
   "version": "3.8.20"
  }
 },
 "nbformat": 4,
 "nbformat_minor": 5
}
