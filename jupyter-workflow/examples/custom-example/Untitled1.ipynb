{
 "cells": [
  {
   "cell_type": "code",
   "execution_count": null,
   "id": "9dd8e1d8-3885-4410-88a5-54bf7f37d4bd",
   "metadata": {
    "editable": true,
    "envData": {
     "editable": true,
     "tags": [],
     "trusted": true,
     "version": "v1.0",
     "workflow": {
      "deployments": {
       "custom": {
        "config": {
         "files": [
          "fd"
         ]
        },
        "type": "kubernetes"
       }
      },
      "interpreter": "python3",
      "target": {
       "deployment": "custom"
      },
      "version": "v1.0"
     }
    },
    "slideshow": {
     "slide_type": ""
    },
    "tags": []
   },
   "outputs": [],
   "source": []
  },
  {
   "cell_type": "code",
   "execution_count": null,
   "id": "af295c79-ef8e-4e06-80ad-cc6bd276b0d7",
   "metadata": {},
   "outputs": [],
   "source": []
  }
 ],
 "metadata": {
  "kernelspec": {
   "display_name": "Jupyter Workflow",
   "language": "python",
   "name": "jupyter-workflow"
  },
  "language_info": {
   "codemirror_mode": {
    "name": "ipython",
    "version": 3
   },
   "file_extension": ".py",
   "mimetype": "text/x-python",
   "name": "python",
   "nbconvert_exporter": "python",
   "pygments_lexer": "ipython3",
   "version": "3.8.20"
  }
 },
 "nbformat": 4,
 "nbformat_minor": 5
}
