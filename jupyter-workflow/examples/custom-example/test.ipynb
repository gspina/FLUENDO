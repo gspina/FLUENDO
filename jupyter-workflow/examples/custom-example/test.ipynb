{
 "cells": [
  {
   "cell_type": "code",
   "execution_count": 1,
   "id": "c155c6f8-2a12-442e-8e34-165d8f5f1371",
   "metadata": {
    "editable": true,
    "slideshow": {
     "slide_type": ""
    },
    "tags": []
   },
   "outputs": [
    {
     "name": "stdout",
     "output_type": "stream",
     "text": [
      "PARENT + METADATA {'header': {'date': datetime.datetime(2024, 12, 11, 15, 5, 43, 88000, tzinfo=tzutc()), 'msg_id': 'de96f39d-91d7-4e3f-8acd-f2746fa3ebca', 'msg_type': 'execute_request', 'session': '9b91a5e4-a093-4559-b8d8-15a3b748a44e', 'username': '', 'version': '5.2'}, 'msg_id': 'de96f39d-91d7-4e3f-8acd-f2746fa3ebca', 'msg_type': 'execute_request', 'parent_header': {}, 'metadata': {'editable': True, 'slideshow': {'slide_type': ''}, 'tags': [], 'trusted': True, 'deletedCells': [], 'recordTiming': False, 'cellId': 'c155c6f8-2a12-442e-8e34-165d8f5f1371'}, 'content': {'silent': False, 'store_history': True, 'user_expressions': {}, 'allow_stdin': True, 'stop_on_error': True, 'code': 'number = 10\\nprint(number)'}, 'buffers': []} {'started': datetime.datetime(2024, 12, 11, 15, 5, 43, 85511, tzinfo=datetime.timezone.utc), 'dependencies_met': True, 'engine': 'b33ae01f-59cb-43a9-be45-747aabfa6776'} \n",
      " =*=*=*=*=*=*=*=*=*=*\n",
      "10\n"
     ]
    }
   ],
   "source": [
    "number = 10\n",
    "print(number)"
   ]
  },
  {
   "cell_type": "code",
   "execution_count": 3,
   "id": "79bf85f2-9a55-4cdb-a18b-e963bd689df8",
   "metadata": {
    "cell_id": 1,
    "editable": true,
    "slideshow": {
     "slide_type": ""
    },
    "tags": [],
    "version": "v1.0",
    "workflow": {
     "cell_id": "cella_1",
     "deployments": {
      "ubuntu2": {
       "config": {
        "nodes": [
         {
          "hostname": "192.168.1.102",
          "sshKey": "key/ubuntu_2_key"
         }
        ],
        "username": "zerod"
       },
       "type": "ssh"
      }
     },
     "interpreter": "python3",
     "step": {
      "in": [
       "test",
       "number",
       "lista",
       "dizionario"
      ],
      "out": [
       "test",
       "number",
       "lista",
       "dizionario"
      ]
     },
     "target": {
      "deployment": "ubuntu2"
     },
     "version": "v1.0"
    }
   },
   "outputs": [
    {
     "name": "stdout",
     "output_type": "stream",
     "text": [
      "PARENT + METADATA {'header': {'date': datetime.datetime(2024, 12, 20, 8, 59, 38, 556000, tzinfo=tzutc()), 'msg_id': '3c804280-4c27-43b9-9122-932bab9802e6', 'msg_type': 'execute_request', 'session': 'd44baeea-1081-46ff-9450-eb1c5abed67d', 'username': '', 'version': '5.2'}, 'msg_id': '3c804280-4c27-43b9-9122-932bab9802e6', 'msg_type': 'execute_request', 'parent_header': {}, 'metadata': {'cell_id': 1, 'editable': True, 'slideshow': {'slide_type': ''}, 'tags': [], 'version': 'v1.0', 'workflow': {'cell_id': 'cella_1', 'deployments': {'ubuntu2': {'config': {'nodes': [{'hostname': '192.168.1.102', 'sshKey': 'key/ubuntu_2_key'}], 'username': 'zerod'}, 'type': 'ssh'}}, 'interpreter': 'python3', 'step': {'in': ['test', 'number', 'lista', 'dizionario'], 'out': ['test', 'number', 'lista', 'dizionario']}, 'target': {'deployment': 'ubuntu2'}, 'version': 'v1.0'}, 'trusted': True, 'deletedCells': [], 'recordTiming': False, 'cellId': '79bf85f2-9a55-4cdb-a18b-e963bd689df8'}, 'content': {'silent': False, 'store_history': True, 'user_expressions': {}, 'allow_stdin': True, 'stop_on_error': True, 'code': 'import time\\ntest = \"prova3\"\\nnumber = 5\\nlista = [test,number,\"42\",99]\\ndizionario = {\"key1\": lista, \"key2\": test, \"key3\":number}\\nprint(test)\\nfor i in range(1):\\n    time.sleep(1)'}, 'buffers': []} {'started': datetime.datetime(2024, 12, 20, 8, 59, 38, 768007, tzinfo=datetime.timezone.utc), 'dependencies_met': True, 'engine': 'bd14f9fc-ea28-40ce-a6f5-55cbefe6ebae'} \n",
      " =*=*=*=*=*=*=*=*=*=*\n",
      "metadata {'cell_id': 'cella_1', 'deployments': {'ubuntu2': {'config': {'nodes': [{'hostname': '192.168.1.102', 'sshKey': 'key/ubuntu_2_key'}], 'username': 'zerod'}, 'type': 'ssh'}}, 'interpreter': 'python3', 'step': {'in': ['test', 'number', 'lista', 'dizionario'], 'out': ['test', 'number', 'lista', 'dizionario']}, 'target': {'deployment': 'ubuntu2'}, 'version': 'v1.0'}\n",
      "terget {'deployment': 'ubuntu2'}\n",
      "METADATA {'cell_id': 'cella_1', 'deployments': {'ubuntu2': {'config': {'nodes': [{'hostname': '192.168.1.102', 'sshKey': 'key/ubuntu_2_key'}], 'username': 'zerod'}, 'type': 'ssh'}}, 'interpreter': 'python3', 'step': {'in': ['test', 'number', 'lista', 'dizionario'], 'out': ['test', 'number', 'lista', 'dizionario']}, 'target': {'deployment': 'ubuntu2'}, 'version': 'v1.0'}\n",
      "prova3\n"
     ]
    }
   ],
   "source": [
    "import time\n",
    "test = \"prova3\"\n",
    "number = 5\n",
    "lista = [test,number,\"42\",99]\n",
    "dizionario = {\"key1\": lista, \"key2\": test, \"key3\":number}\n",
    "print(test)\n",
    "for i in range(1):\n",
    "    time.sleep(1)"
   ]
  },
  {
   "cell_type": "code",
   "execution_count": 4,
   "id": "8b2f6356-dba5-4c9a-b609-961c9093b34c",
   "metadata": {
    "editable": true,
    "slideshow": {
     "slide_type": ""
    },
    "tags": []
   },
   "outputs": [
    {
     "name": "stdout",
     "output_type": "stream",
     "text": [
      "PARENT + METADATA {'header': {'date': datetime.datetime(2024, 12, 20, 8, 59, 50, 67000, tzinfo=tzutc()), 'msg_id': '5e3a5a90-950c-4734-8b3d-42df76c24c0e', 'msg_type': 'execute_request', 'session': 'd44baeea-1081-46ff-9450-eb1c5abed67d', 'username': '', 'version': '5.2'}, 'msg_id': '5e3a5a90-950c-4734-8b3d-42df76c24c0e', 'msg_type': 'execute_request', 'parent_header': {}, 'metadata': {'editable': True, 'slideshow': {'slide_type': ''}, 'tags': [], 'trusted': True, 'deletedCells': [], 'recordTiming': False, 'cellId': '8b2f6356-dba5-4c9a-b609-961c9093b34c'}, 'content': {'silent': False, 'store_history': True, 'user_expressions': {}, 'allow_stdin': True, 'stop_on_error': True, 'code': 'print(test, number)\\n\\nprint(lista)\\nprint(dizionario)'}, 'buffers': []} {'started': datetime.datetime(2024, 12, 20, 8, 59, 50, 278044, tzinfo=datetime.timezone.utc), 'dependencies_met': True, 'engine': 'bd14f9fc-ea28-40ce-a6f5-55cbefe6ebae'} \n",
      " =*=*=*=*=*=*=*=*=*=*\n",
      "prova3 5\n",
      "['prova3', 5, '42', 99]\n",
      "{'key1': ['prova3', 5, '42', 99], 'key2': 'prova3', 'key3': 5}\n"
     ]
    }
   ],
   "source": [
    "print(test, number)\n",
    "\n",
    "print(lista)\n",
    "print(dizionario)"
   ]
  },
  {
   "cell_type": "code",
   "execution_count": null,
   "id": "06d4d70b-8017-4ac2-b1f8-3fd6bb16bd1a",
   "metadata": {
    "editable": true,
    "slideshow": {
     "slide_type": ""
    },
    "tags": []
   },
   "outputs": [],
   "source": [
    "import streamflow\n",
    "print(streamflow.__version__)"
   ]
  },
  {
   "cell_type": "code",
   "execution_count": null,
   "id": "b203a6b1-0f6d-4cab-a3bc-2e862c6a5a59",
   "metadata": {},
   "outputs": [],
   "source": [
    "ubuntu2 arbitrario"
   ]
  },
  {
   "cell_type": "code",
   "execution_count": null,
   "id": "5659183d-bf87-4e7f-bd94-fc3dfc1fc16a",
   "metadata": {},
   "outputs": [],
   "source": [
    "interpreter comando con cui esegue "
   ]
  }
 ],
 "metadata": {
  "TEST": "PROVA",
  "kernelspec": {
   "display_name": "Jupyter Workflow",
   "language": "python",
   "name": "jupyter-workflow"
  },
  "language_info": {
   "codemirror_mode": {
    "name": "ipython",
    "version": 3
   },
   "file_extension": ".py",
   "mimetype": "text/x-python",
   "name": "python",
   "nbconvert_exporter": "python",
   "pygments_lexer": "ipython3",
   "version": "3.8.20"
  },
  "version": "v1.0"
 },
 "nbformat": 4,
 "nbformat_minor": 5
}
