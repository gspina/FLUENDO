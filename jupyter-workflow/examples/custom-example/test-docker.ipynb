{
 "cells": [
  {
   "cell_type": "code",
   "execution_count": 1,
   "id": "c155c6f8-2a12-442e-8e34-165d8f5f1371",
   "metadata": {
    "editable": true,
    "slideshow": {
     "slide_type": ""
    },
    "tags": []
   },
   "outputs": [
    {
     "name": "stdout",
     "output_type": "stream",
     "text": [
      "PARENT + METADATA {'header': {'date': datetime.datetime(2024, 12, 16, 16, 4, 29, 58000, tzinfo=tzutc()), 'msg_id': 'fddec851-9aab-40ae-b5ea-baa2e0c510fb', 'msg_type': 'execute_request', 'session': 'b96c9dbc-5330-4f9d-ae67-36b463fd694c', 'username': '', 'version': '5.2'}, 'msg_id': 'fddec851-9aab-40ae-b5ea-baa2e0c510fb', 'msg_type': 'execute_request', 'parent_header': {}, 'metadata': {'editable': True, 'slideshow': {'slide_type': ''}, 'tags': [], 'trusted': True, 'deletedCells': [], 'recordTiming': False, 'cellId': 'c155c6f8-2a12-442e-8e34-165d8f5f1371'}, 'content': {'silent': False, 'store_history': True, 'user_expressions': {}, 'allow_stdin': True, 'stop_on_error': True, 'code': 'number = 10'}, 'buffers': []} {'started': datetime.datetime(2024, 12, 16, 16, 4, 29, 199421, tzinfo=datetime.timezone.utc), 'dependencies_met': True, 'engine': '56ce3f81-f4f7-4b7b-914a-c845ee261be2'} \n",
      " =*=*=*=*=*=*=*=*=*=*\n"
     ]
    }
   ],
   "source": [
    "number = 10"
   ]
  },
  {
   "cell_type": "code",
   "execution_count": 2,
   "id": "79bf85f2-9a55-4cdb-a18b-e963bd689df8",
   "metadata": {
    "cell_id": 1,
    "editable": true,
    "slideshow": {
     "slide_type": ""
    },
    "tags": [],
    "version": "v1.0",
    "workflow": {
     "cell_id": "cella_1",
     "deployments": {
      "docker-depl": {
       "config": {
        "image": "python:custom",
        "rm": true,
        "stopSignal": "SIGKILL",
        "stopTimeout": 12
       },
       "type": "docker"
      }
     },
     "interpreter": "python3",
     "step": {
      "autoin": true,
      "out": [
       "test",
       "number",
       "lista",
       "dizionario"
      ]
     },
     "target": {
      "deployment": "docker-depl"
     },
     "version": "v1.0"
    }
   },
   "outputs": [
    {
     "name": "stdout",
     "output_type": "stream",
     "text": [
      "PARENT + METADATA {'header': {'date': datetime.datetime(2024, 12, 16, 16, 4, 32, 180000, tzinfo=tzutc()), 'msg_id': '57c582b7-82c4-4a90-a2b5-a9cf6efdf28b', 'msg_type': 'execute_request', 'session': 'b96c9dbc-5330-4f9d-ae67-36b463fd694c', 'username': '', 'version': '5.2'}, 'msg_id': '57c582b7-82c4-4a90-a2b5-a9cf6efdf28b', 'msg_type': 'execute_request', 'parent_header': {}, 'metadata': {'cell_id': 1, 'editable': True, 'slideshow': {'slide_type': ''}, 'tags': [], 'version': 'v1.0', 'workflow': {'cell_id': 'cella_1', 'deployments': {'docker-depl': {'config': {'image': 'python:custom', 'rm': True, 'stopSignal': 'SIGKILL', 'stopTimeout': 12}, 'type': 'docker'}}, 'interpreter': 'python3', 'step': {'autoin': True, 'out': ['test', 'number', 'lista', 'dizionario']}, 'target': {'deployment': 'docker-depl'}, 'version': 'v1.0'}, 'trusted': True, 'deletedCells': [], 'recordTiming': False, 'cellId': '79bf85f2-9a55-4cdb-a18b-e963bd689df8'}, 'content': {'silent': False, 'store_history': True, 'user_expressions': {}, 'allow_stdin': True, 'stop_on_error': True, 'code': 'import time\\nimport matplotlib\\ntest = \"prova3\"\\nlista = [test,number,\"42\",99]\\ndizionario = {\"key1\": lista, \"key2\": test, \"key3\":number}\\nprint(test)\\nfor i in range(1):\\n    prova = \"provatest\"\\n    time.sleep(1)\\n    print(\"testtest\")'}, 'buffers': []} {'started': datetime.datetime(2024, 12, 16, 16, 4, 32, 313356, tzinfo=datetime.timezone.utc), 'dependencies_met': True, 'engine': '56ce3f81-f4f7-4b7b-914a-c845ee261be2'} \n",
      " =*=*=*=*=*=*=*=*=*=*\n",
      "metadata {'cell_id': 'cella_1', 'deployments': {'docker-depl': {'config': {'image': 'python:custom', 'rm': True, 'stopSignal': 'SIGKILL', 'stopTimeout': 12}, 'type': 'docker'}}, 'interpreter': 'python3', 'step': {'autoin': True, 'out': ['test', 'number', 'lista', 'dizionario']}, 'target': {'deployment': 'docker-depl'}, 'version': 'v1.0'}\n",
      "terget {'deployment': 'docker-depl'}\n",
      "METADATA {'cell_id': 'cella_1', 'deployments': {'docker-depl': {'config': {'image': 'python:custom', 'rm': True, 'stopSignal': 'SIGKILL', 'stopTimeout': 12}, 'type': 'docker'}}, 'interpreter': 'python3', 'step': {'autoin': True, 'out': ['test', 'number', 'lista', 'dizionario']}, 'target': {'deployment': 'docker-depl'}, 'version': 'v1.0'}\n",
      "prova3\n",
      "testtest\n"
     ]
    }
   ],
   "source": [
    "import time\n",
    "import matplotlib\n",
    "test = \"prova3\"\n",
    "lista = [test,number,\"42\",99]\n",
    "dizionario = {\"key1\": lista, \"key2\": test, \"key3\":number}\n",
    "print(test)\n",
    "for i in range(1):\n",
    "    prova = \"provatest\"\n",
    "    time.sleep(1)\n",
    "    print(\"testtest\")"
   ]
  },
  {
   "cell_type": "code",
   "execution_count": 3,
   "id": "8b2f6356-dba5-4c9a-b609-961c9093b34c",
   "metadata": {
    "editable": true,
    "slideshow": {
     "slide_type": ""
    },
    "tags": []
   },
   "outputs": [
    {
     "name": "stdout",
     "output_type": "stream",
     "text": [
      "PARENT + METADATA {'header': {'date': datetime.datetime(2024, 12, 16, 16, 4, 36, 314000, tzinfo=tzutc()), 'msg_id': '3fc12006-9de9-4afb-b814-64a60f7d1173', 'msg_type': 'execute_request', 'session': 'b96c9dbc-5330-4f9d-ae67-36b463fd694c', 'username': '', 'version': '5.2'}, 'msg_id': '3fc12006-9de9-4afb-b814-64a60f7d1173', 'msg_type': 'execute_request', 'parent_header': {}, 'metadata': {'editable': True, 'slideshow': {'slide_type': ''}, 'tags': [], 'trusted': True, 'deletedCells': [], 'recordTiming': False, 'cellId': '8b2f6356-dba5-4c9a-b609-961c9093b34c'}, 'content': {'silent': False, 'store_history': True, 'user_expressions': {}, 'allow_stdin': True, 'stop_on_error': True, 'code': 'print(test, number)\\n\\nprint(lista)\\nprint(dizionario)'}, 'buffers': []} {'started': datetime.datetime(2024, 12, 16, 16, 4, 36, 460828, tzinfo=datetime.timezone.utc), 'dependencies_met': True, 'engine': '56ce3f81-f4f7-4b7b-914a-c845ee261be2'} \n",
      " =*=*=*=*=*=*=*=*=*=*\n",
      "prova3 10\n",
      "['prova3', 10, '42', 99]\n",
      "{'key1': ['prova3', 10, '42', 99], 'key2': 'prova3', 'key3': 10}\n"
     ]
    }
   ],
   "source": [
    "print(test, number)\n",
    "\n",
    "print(lista)\n",
    "print(dizionario)"
   ]
  },
  {
   "cell_type": "code",
   "execution_count": 9,
   "id": "06d4d70b-8017-4ac2-b1f8-3fd6bb16bd1a",
   "metadata": {
    "editable": true,
    "slideshow": {
     "slide_type": ""
    },
    "tags": []
   },
   "outputs": [
    {
     "name": "stdout",
     "output_type": "stream",
     "text": [
      "0.2.0.dev7\n"
     ]
    }
   ],
   "source": [
    "import streamflow\n",
    "print(streamflow.__version__)"
   ]
  },
  {
   "cell_type": "code",
   "execution_count": 10,
   "id": "b203a6b1-0f6d-4cab-a3bc-2e862c6a5a59",
   "metadata": {},
   "outputs": [
    {
     "ename": "SyntaxError",
     "evalue": "invalid syntax (1167353395.py, line 1)",
     "output_type": "error",
     "traceback": [
      "\u001b[0;36m  Cell \u001b[0;32mIn[10], line 1\u001b[0;36m\u001b[0m\n\u001b[0;31m    ubuntu2 arbitrario\u001b[0m\n\u001b[0m            ^\u001b[0m\n\u001b[0;31mSyntaxError\u001b[0m\u001b[0;31m:\u001b[0m invalid syntax\n"
     ]
    }
   ],
   "source": []
  },
  {
   "cell_type": "code",
   "execution_count": 2,
   "id": "23cf68ba-67a2-4de2-b89a-996bb56c3c21",
   "metadata": {
    "cell_id": 1,
    "editable": true,
    "slideshow": {
     "slide_type": ""
    },
    "tags": [],
    "version": "v1.0",
    "workflow": {
     "cell_id": "cella_1",
     "deployments": {
      "docker-depl": {
       "config": {
        "image": "python:custom",
        "rm": true,
        "stopSignal": "SIGKILL",
        "stopTimeout": 12
       },
       "type": "docker"
      }
     },
     "interpreter": "python3",
     "step": {
      "in": [
       "test",
       "number",
       "lista",
       "dizionario"
      ],
      "out": [
       "test",
       "number",
       "lista",
       "dizionario"
      ]
     },
     "target": {
      "deployment": "docker-depl"
     },
     "version": "v1.0"
    }
   },
   "outputs": [
    {
     "name": "stdout",
     "output_type": "stream",
     "text": [
      "metadata {'cell_id': 'cella_1', 'deployments': {'docker-depl': {'config': {'image': 'python:custom', 'rm': True, 'stopSignal': 'SIGKILL', 'stopTimeout': 12}, 'type': 'docker'}}, 'interpreter': 'python3', 'step': {'in': ['test', 'number', 'lista', 'dizionario'], 'out': ['test', 'number', 'lista', 'dizionario']}, 'target': {'deployment': 'docker-depl'}, 'version': 'v1.0'}\n",
      "terget {'deployment': 'docker-depl'}\n",
      "METADATA {'cell_id': 'cella_1', 'deployments': {'docker-depl': {'config': {'image': 'python:custom', 'rm': True, 'stopSignal': 'SIGKILL', 'stopTimeout': 12}, 'type': 'docker'}}, 'interpreter': 'python3', 'step': {'in': ['test', 'number', 'lista', 'dizionario'], 'out': ['test', 'number', 'lista', 'dizionario']}, 'target': {'deployment': 'docker-depl'}, 'version': 'v1.0'}\n",
      "prova3\n"
     ]
    }
   ],
   "source": []
  },
  {
   "cell_type": "code",
   "execution_count": 5,
   "id": "5659183d-bf87-4e7f-bd94-fc3dfc1fc16a",
   "metadata": {},
   "outputs": [
    {
     "name": "stdout",
     "output_type": "stream",
     "text": [
      "\n",
      "ciao\n"
     ]
    }
   ],
   "source": [
    "%%bash -s \"$test\" \n",
    "echo $test\n",
    "echo \"ciao\""
   ]
  },
  {
   "cell_type": "code",
   "execution_count": null,
   "id": "a7beb490-f1b7-4034-9bc4-8a5f0b10f158",
   "metadata": {},
   "outputs": [],
   "source": []
  }
 ],
 "metadata": {
  "kernelspec": {
   "display_name": "Jupyter Workflow",
   "language": "python",
   "name": "jupyter-workflow"
  },
  "language_info": {
   "codemirror_mode": {
    "name": "ipython",
    "version": 3
   },
   "file_extension": ".py",
   "mimetype": "text/x-python",
   "name": "python",
   "nbconvert_exporter": "python",
   "pygments_lexer": "ipython3",
   "version": "3.8.20"
  },
  "version": "v1.0"
 },
 "nbformat": 4,
 "nbformat_minor": 5
}
