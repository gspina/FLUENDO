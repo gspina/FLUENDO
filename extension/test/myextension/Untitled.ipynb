{
 "cells": [
  {
   "cell_type": "code",
   "execution_count": 1,
   "id": "243ec03d-d94a-4d6e-a14e-7698724bfe49",
   "metadata": {
    "cccc": "asdasd",
    "editable": true,
    "key1": "value1",
    "key2": "value2",
    "prova": "test",
    "prova2": "cammello",
    "slideshow": {
     "slide_type": ""
    },
    "tags": [],
    "test": "prova"
   },
   "outputs": [
    {
     "name": "stdout",
     "output_type": "stream",
     "text": [
      "PARENT + METADATA {'header': {'date': datetime.datetime(2024, 12, 19, 14, 41, 30, 25000, tzinfo=tzutc()), 'msg_id': '6359f747-e807-4bab-8ca0-78f4bf1dcbc8', 'msg_type': 'execute_request', 'session': 'ca831af5-4001-44ba-8737-a396cfe4c4c5', 'username': '', 'version': '5.2'}, 'msg_id': '6359f747-e807-4bab-8ca0-78f4bf1dcbc8', 'msg_type': 'execute_request', 'parent_header': {}, 'metadata': {'cccc': 'asdasd', 'editable': True, 'key1': 'value1', 'key2': 'value2', 'prova': 'test', 'prova2': 'cammello', 'slideshow': {'slide_type': ''}, 'tags': [], 'test': 'prova', 'trusted': True, 'deletedCells': ['7e4c4e6a-5114-491d-9336-517c81ec9f78'], 'recordTiming': False, 'cellId': '243ec03d-d94a-4d6e-a14e-7698724bfe49'}, 'content': {'silent': False, 'store_history': True, 'user_expressions': {}, 'allow_stdin': True, 'stop_on_error': True, 'code': 'prova = 15'}, 'buffers': []} {'started': datetime.datetime(2024, 12, 19, 14, 41, 30, 218573, tzinfo=datetime.timezone.utc), 'dependencies_met': True, 'engine': '1fc043ac-0f35-4b28-862f-a23f8ea7af44'} \n",
      " =*=*=*=*=*=*=*=*=*=*\n"
     ]
    }
   ],
   "source": [
    "prova = 15"
   ]
  },
  {
   "cell_type": "code",
   "execution_count": 2,
   "id": "a4c424cb-6857-4490-b903-2a1fa831de26",
   "metadata": {
    "key1": "value1",
    "key2": "value2"
   },
   "outputs": [
    {
     "name": "stdout",
     "output_type": "stream",
     "text": [
      "PARENT + METADATA {'header': {'date': datetime.datetime(2024, 12, 18, 15, 2, 27, 322000, tzinfo=tzutc()), 'msg_id': '11e2459e-db04-4b62-a011-00d05ad83457', 'msg_type': 'execute_request', 'session': '5d3d2915-0987-436c-8755-dcd2aaea987c', 'username': '', 'version': '5.2'}, 'msg_id': '11e2459e-db04-4b62-a011-00d05ad83457', 'msg_type': 'execute_request', 'parent_header': {}, 'metadata': {'trusted': True, 'key1': 'value1', 'key2': 'value2', 'deletedCells': [], 'recordTiming': False, 'cellId': 'a4c424cb-6857-4490-b903-2a1fa831de26'}, 'content': {'silent': False, 'store_history': True, 'user_expressions': {}, 'allow_stdin': True, 'stop_on_error': True, 'code': 'print(prova)'}, 'buffers': []} {'started': datetime.datetime(2024, 12, 18, 15, 2, 27, 571791, tzinfo=datetime.timezone.utc), 'dependencies_met': True, 'engine': 'cb416f8b-411c-4801-af40-05db90053561'} \n",
      " =*=*=*=*=*=*=*=*=*=*\n",
      "15\n"
     ]
    }
   ],
   "source": [
    "print(prova)"
   ]
  },
  {
   "cell_type": "code",
   "execution_count": 48,
   "id": "7efc6824-fcc0-439f-9f54-14d42ee59664",
   "metadata": {},
   "outputs": [
    {
     "name": "stdout",
     "output_type": "stream",
     "text": [
      "Selected Jupyter core packages...\n",
      "IPython          : 8.18.1\n",
      "ipykernel        : 6.29.5\n",
      "ipywidgets       : 8.1.5\n",
      "jupyter_client   : 8.6.3\n",
      "jupyter_core     : 5.7.2\n",
      "jupyter_server   : 2.14.2\n",
      "jupyterlab       : 4.3.3\n",
      "nbclient         : 0.10.1\n",
      "nbconvert        : 7.16.4\n",
      "nbformat         : 5.10.4\n",
      "notebook         : 7.3.1\n",
      "qtconsole        : not installed\n",
      "traitlets        : 5.14.3\n"
     ]
    }
   ],
   "source": [
    "!jupyter --version"
   ]
  },
  {
   "cell_type": "code",
   "execution_count": null,
   "id": "1cfc3d4d-6289-4d4f-861f-7180add360b4",
   "metadata": {},
   "outputs": [],
   "source": []
  }
 ],
 "metadata": {
  "kernelspec": {
   "display_name": "Jupyter Workflow",
   "language": "python",
   "name": "jupyter-workflow"
  },
  "language_info": {
   "codemirror_mode": {
    "name": "ipython",
    "version": 3
   },
   "file_extension": ".py",
   "mimetype": "text/x-python",
   "name": "python",
   "nbconvert_exporter": "python",
   "pygments_lexer": "ipython3",
   "version": "3.8.20"
  },
  "widgets": {
   "application/vnd.jupyter.widget-state+json": {
    "state": {},
    "version_major": 2,
    "version_minor": 0
   }
  }
 },
 "nbformat": 4,
 "nbformat_minor": 5
}
